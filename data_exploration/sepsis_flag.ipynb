{
 "cells": [
  {
   "cell_type": "code",
   "execution_count": 21,
   "metadata": {},
   "outputs": [
    {
     "name": "stdout",
     "output_type": "stream",
     "text": [
      "0.09485548134500231\n"
     ]
    }
   ],
   "source": [
    "import pandas as pd \n",
    "import db_dtypes\n",
    "output = 'C:/Users/ax111/Documents/personal_documents/P10/P10_graph/datasetmodule/output/mimiciv'\n",
    "sepsis_mapping = pd.read_parquet(output + '/person_sepsis.parquet')\n",
    "person_count = len(sepsis_mapping)\n",
    "sepsis_mapping = sepsis_mapping[sepsis_mapping['has_sepsis'] == 1]\n",
    "sepsis_cohort_count = len(sepsis_mapping)\n",
    "print(sepsis_cohort_count/person_count)"
   ]
  }
 ],
 "metadata": {
  "kernelspec": {
   "display_name": "Python 3",
   "language": "python",
   "name": "python3"
  },
  "language_info": {
   "codemirror_mode": {
    "name": "ipython",
    "version": 3
   },
   "file_extension": ".py",
   "mimetype": "text/x-python",
   "name": "python",
   "nbconvert_exporter": "python",
   "pygments_lexer": "ipython3",
   "version": "3.9.13"
  }
 },
 "nbformat": 4,
 "nbformat_minor": 2
}
